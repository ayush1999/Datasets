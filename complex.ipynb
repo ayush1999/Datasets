{
 "cells": [
  {
   "cell_type": "code",
   "execution_count": 29,
   "metadata": {
    "collapsed": true
   },
   "outputs": [],
   "source": [
    "# Python 3.X\n",
    "import math"
   ]
  },
  {
   "cell_type": "code",
   "execution_count": 36,
   "metadata": {},
   "outputs": [],
   "source": [
    "class Complex():\n",
    "    def __init__(self, x=0,y=0):\n",
    "        if (isinstance(x, int) or isinstance(x,float) )and (isinstance(y, int) or isinstance(y, float)) :\n",
    "            \n",
    "            self.real = x\n",
    "            self.imaginary = y\n",
    "    \n",
    "    def __str__(self):\n",
    "        if(self.imaginary > 0):\n",
    "            return str(self.real) + \" + \" +str(self.imaginary)+\"i\"\n",
    "        else:\n",
    "            return str(self.real)   +str(self.imaginary)+\"i\"\n",
    "    def __add__(self, other):\n",
    "        temp = Complex(self.real + other.real ,self.imaginary + other.imaginary)\n",
    "        return temp\n",
    "    \n",
    "    def __sub__(self, other):\n",
    "        temp = Complex(self.real - other.real ,self.imaginary - other.imaginary)\n",
    "        return temp\n",
    "    \n",
    "    def __mul__(self, other):\n",
    "        temp = Complex(self.real*other.real - self.imaginary*other.imaginary, self.real*other.imaginary + self.imaginary*other.real)\n",
    "        return temp\n",
    "    \n",
    "    def __truediv__(self, other):\n",
    "        arg = math.sqrt(other.real**2 + other.imaginary**2)\n",
    "        temp = Complex((self.real*other.real + self.imaginary*other.imaginary)/arg, (-self.real*other.imaginary + self.imaginary*other.real)/arg)\n",
    "        return temp\n",
    "    \n",
    "    def __abs__(self):\n",
    "        return math.sqrt(self.real**2 + self.imaginary**2)\n",
    "    \n",
    "    def real(self):\n",
    "        return self.real\n",
    "    \n",
    "    def imaginary(self):\n",
    "        return self.imaginary\n",
    "    \n",
    "    # in radians\n",
    "    def argument(self):\n",
    "        return math.atan(self.imaginary / self.real)\n",
    "    \n",
    "    def conjugate(self):\n",
    "        return Complex(self.real ,  -1 * self.imaginary)\n",
    "    \n",
    "    "
   ]
  },
  {
   "cell_type": "code",
   "execution_count": 31,
   "metadata": {
    "collapsed": true
   },
   "outputs": [],
   "source": [
    "a = Complex(2,4)\n",
    "b = Complex(4,2)"
   ]
  },
  {
   "cell_type": "code",
   "execution_count": 32,
   "metadata": {},
   "outputs": [
    {
     "name": "stdout",
     "output_type": "stream",
     "text": [
      "6 + 6i\n"
     ]
    }
   ],
   "source": [
    "print(a + b)"
   ]
  },
  {
   "cell_type": "code",
   "execution_count": 33,
   "metadata": {},
   "outputs": [
    {
     "name": "stdout",
     "output_type": "stream",
     "text": [
      "-2 + 2i\n"
     ]
    }
   ],
   "source": [
    "print(a - b)"
   ]
  },
  {
   "cell_type": "code",
   "execution_count": 34,
   "metadata": {},
   "outputs": [
    {
     "name": "stdout",
     "output_type": "stream",
     "text": [
      "2-4i\n"
     ]
    }
   ],
   "source": [
    "print(a.conjugate())"
   ]
  },
  {
   "cell_type": "code",
   "execution_count": 35,
   "metadata": {},
   "outputs": [
    {
     "name": "stdout",
     "output_type": "stream",
     "text": [
      "1.1071487177940904\n"
     ]
    }
   ],
   "source": [
    "print(a.argument())"
   ]
  },
  {
   "cell_type": "code",
   "execution_count": 37,
   "metadata": {},
   "outputs": [
    {
     "name": "stdout",
     "output_type": "stream",
     "text": [
      "0 + 20i\n"
     ]
    }
   ],
   "source": [
    "print(a * b)"
   ]
  },
  {
   "cell_type": "code",
   "execution_count": null,
   "metadata": {
    "collapsed": true
   },
   "outputs": [],
   "source": []
  }
 ],
 "metadata": {
  "kernelspec": {
   "display_name": "Python 3",
   "language": "python",
   "name": "python3"
  },
  "language_info": {
   "codemirror_mode": {
    "name": "ipython",
    "version": 3
   },
   "file_extension": ".py",
   "mimetype": "text/x-python",
   "name": "python",
   "nbconvert_exporter": "python",
   "pygments_lexer": "ipython3",
   "version": "3.6.1"
  }
 },
 "nbformat": 4,
 "nbformat_minor": 2
}
