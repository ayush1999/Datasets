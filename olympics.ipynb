{
 "cells": [
  {
   "cell_type": "code",
   "execution_count": 1,
   "metadata": {},
   "outputs": [],
   "source": [
    "import pandas as pd\n",
    "from sklearn.cluster import KMeans"
   ]
  },
  {
   "cell_type": "code",
   "execution_count": 2,
   "metadata": {
    "collapsed": true
   },
   "outputs": [],
   "source": [
    "def load_data(filename):\n",
    "    data = pd.read_csv(filename, skiprows=1)\n",
    "    data.columns = ['Country','Summer','Gold Summer','Silver Summer','Bronze Summer','Total', '# Winter',\n",
    "       'Gold Winter', 'Silver Winter', 'Bronze Winter', 'Total.1', '# Games', 'Gold', 'Silver',\n",
    "       'Bronze', 'Combined total']\n",
    "    data = data.drop(['Total','Total.1','Combined total'], axis = 1)\n",
    "    data = data.drop(data.index[146])\n",
    "    \n",
    "    return data"
   ]
  },
  {
   "cell_type": "code",
   "execution_count": 3,
   "metadata": {},
   "outputs": [
    {
     "name": "stdout",
     "output_type": "stream",
     "text": [
      "<class 'pandas.core.frame.DataFrame'>\n",
      "Int64Index: 146 entries, 0 to 145\n",
      "Data columns (total 13 columns):\n",
      "Country          146 non-null object\n",
      "Summer           146 non-null int64\n",
      "Gold Summer      146 non-null int64\n",
      "Silver Summer    146 non-null int64\n",
      "Bronze Summer    146 non-null int64\n",
      "# Winter         146 non-null int64\n",
      "Gold Winter      146 non-null int64\n",
      "Silver Winter    146 non-null int64\n",
      "Bronze Winter    146 non-null int64\n",
      "# Games          146 non-null int64\n",
      "Gold             146 non-null int64\n",
      "Silver           146 non-null int64\n",
      "Bronze           146 non-null int64\n",
      "dtypes: int64(12), object(1)\n",
      "memory usage: 16.0+ KB\n"
     ]
    }
   ],
   "source": [
    "data= load_data('olympics.csv')\n",
    "data.info()"
   ]
  },
  {
   "cell_type": "code",
   "execution_count": 4,
   "metadata": {},
   "outputs": [],
   "source": [
    "def first_country(name):\n",
    "    for i in range(146):\n",
    "        if name in data.loc[i][0]:\n",
    "            print(data.loc[i])"
   ]
  },
  {
   "cell_type": "code",
   "execution_count": 5,
   "metadata": {},
   "outputs": [
    {
     "data": {
      "text/plain": [
       "976"
      ]
     },
     "execution_count": 5,
     "metadata": {},
     "output_type": "execute_result"
    }
   ],
   "source": [
    "data['Gold Summer'].max()"
   ]
  },
  {
   "cell_type": "code",
   "execution_count": 6,
   "metadata": {},
   "outputs": [],
   "source": [
    "def gold_medals(df):\n",
    "    max_gold = df['Gold Summer'].max()\n",
    "    for i in range(146):\n",
    "        if max_gold == df.loc[i][2]:\n",
    "            print(data.loc[i][0])"
   ]
  },
  {
   "cell_type": "code",
   "execution_count": 7,
   "metadata": {},
   "outputs": [
    {
     "name": "stdout",
     "output_type": "stream",
     "text": [
      "United States (USA) [P] [Q] [R] [Z]\n"
     ]
    }
   ],
   "source": [
    "gold_medals(data)"
   ]
  },
  {
   "cell_type": "code",
   "execution_count": 8,
   "metadata": {},
   "outputs": [],
   "source": [
    "def biggest_difference_in_gold_medal(df):\n",
    "    max = 0\n",
    "    for i in range(146):\n",
    "        if df.loc[i][2] - df.loc[i][7] > max :\n",
    "            k = i\n",
    "            max = df.loc[i][2] - df.loc[i][7]\n",
    "    print(df.loc[i][0])\n"
   ]
  },
  {
   "cell_type": "code",
   "execution_count": 9,
   "metadata": {},
   "outputs": [
    {
     "name": "stdout",
     "output_type": "stream",
     "text": [
      "Mixed team (ZZX) [ZZX]\n"
     ]
    }
   ],
   "source": [
    "biggest_difference_in_gold_medal(data)"
   ]
  },
  {
   "cell_type": "code",
   "execution_count": 10,
   "metadata": {
    "collapsed": true
   },
   "outputs": [],
   "source": [
    "def get_points(df):\n",
    "    df['Points'] = df['Gold'] * 3 + df['Silver']*2 + df['Bronze']\n",
    "    return df['Points']"
   ]
  },
  {
   "cell_type": "code",
   "execution_count": 11,
   "metadata": {},
   "outputs": [
    {
     "name": "stdout",
     "output_type": "stream",
     "text": [
      "0         2\n",
      "1        27\n",
      "2       130\n",
      "3        16\n",
      "4        22\n",
      "5       923\n",
      "6       569\n",
      "7        43\n",
      "8        24\n",
      "9         1\n",
      "10        1\n",
      "11      154\n",
      "12      276\n",
      "13        1\n",
      "14        5\n",
      "15        2\n",
      "16      184\n",
      "17        2\n",
      "18      411\n",
      "19        3\n",
      "20       12\n",
      "21      846\n",
      "22       24\n",
      "23     1120\n",
      "24       29\n",
      "25        7\n",
      "26        2\n",
      "27       67\n",
      "28      420\n",
      "29        2\n",
      "       ... \n",
      "116     268\n",
      "117       4\n",
      "118       2\n",
      "119       4\n",
      "120    1217\n",
      "121     630\n",
      "122       6\n",
      "123      32\n",
      "124       4\n",
      "125       4\n",
      "126      44\n",
      "127       1\n",
      "128       2\n",
      "129      27\n",
      "130      19\n",
      "131     191\n",
      "132      14\n",
      "133     220\n",
      "134       3\n",
      "135    5684\n",
      "136      16\n",
      "137      38\n",
      "138      18\n",
      "139       4\n",
      "140       2\n",
      "141     171\n",
      "142       4\n",
      "143       3\n",
      "144      18\n",
      "145      38\n",
      "Name: Points, Length: 146, dtype: int64\n"
     ]
    }
   ],
   "source": [
    "print(get_points(data))"
   ]
  },
  {
   "cell_type": "code",
   "execution_count": 12,
   "metadata": {},
   "outputs": [],
   "source": [
    "def k_means():\n",
    "    kmeans  = KMeans().fit(data.drop(['Country'], axis = 1))\n",
    "    return kmeans.\n",
    "    "
   ]
  },
  {
   "cell_type": "code",
   "execution_count": 13,
   "metadata": {},
   "outputs": [],
   "source": []
  },
  {
   "cell_type": "code",
   "execution_count": null,
   "metadata": {},
   "outputs": [],
   "source": []
  },
  {
   "cell_type": "code",
   "execution_count": null,
   "metadata": {},
   "outputs": [],
   "source": []
  },
  {
   "cell_type": "code",
   "execution_count": null,
   "metadata": {},
   "outputs": [],
   "source": []
  },
  {
   "cell_type": "code",
   "execution_count": null,
   "metadata": {},
   "outputs": [],
   "source": []
  },
  {
   "cell_type": "code",
   "execution_count": null,
   "metadata": {
    "collapsed": true
   },
   "outputs": [],
   "source": []
  }
 ],
 "metadata": {
  "kernelspec": {
   "display_name": "Python 3",
   "language": "python",
   "name": "python3"
  },
  "language_info": {
   "codemirror_mode": {
    "name": "ipython",
    "version": 3
   },
   "file_extension": ".py",
   "mimetype": "text/x-python",
   "name": "python",
   "nbconvert_exporter": "python",
   "pygments_lexer": "ipython3",
   "version": "3.6.1"
  }
 },
 "nbformat": 4,
 "nbformat_minor": 2
}
